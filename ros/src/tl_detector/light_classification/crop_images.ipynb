{
 "cells": [
  {
   "cell_type": "code",
   "execution_count": 9,
   "metadata": {},
   "outputs": [],
   "source": [
    "from PIL import Image\n",
    "from glob import glob\n",
    "import os\n",
    "\n",
    "from matplotlib import pyplot as plt\n",
    "%matplotlib inline"
   ]
  },
  {
   "cell_type": "code",
   "execution_count": 10,
   "metadata": {},
   "outputs": [
    {
     "name": "stdout",
     "output_type": "stream",
     "text": [
      "15\n",
      "['./test_images/real/left0008.jpg', './test_images/real/left0009.jpg', './test_images/real/left0010.jpg', './test_images/real/left0088.jpg', './test_images/real/left0089.jpg', './test_images/real/left0090.jpg', './test_images/real/left0181.jpg', './test_images/real/left0182.jpg', './test_images/real/left0183.jpg', './test_images/real/left0240.jpg', './test_images/real/left0241.jpg', './test_images/real/left0242.jpg', './test_images/real/left0485.jpg', './test_images/real/left0486.jpg', './test_images/real/left0487.jpg']\n"
     ]
    }
   ],
   "source": [
    "PATH_TO_TEST_IMAGES_DIR = './test_images/real/'\n",
    "TEST_IMAGE_PATHS = glob(os.path.join(PATH_TO_TEST_IMAGES_DIR, '*.jpg'))\n",
    "# print(\"Length of test images:\", len(TEST_IMAGE_PATHS))\n",
    "TEST_IMAGE_PATHS = sorted(TEST_IMAGE_PATHS)[:100]\n",
    "print(len(TEST_IMAGE_PATHS))\n",
    "print(TEST_IMAGE_PATHS)\n",
    "\n",
    "# Size, in inches, of the output images.\n",
    "IMAGE_SIZE = (12, 8)"
   ]
  },
  {
   "cell_type": "code",
   "execution_count": 25,
   "metadata": {},
   "outputs": [
    {
     "data": {
      "text/plain": [
       "'left0008.jpg'"
      ]
     },
     "execution_count": 25,
     "metadata": {},
     "output_type": "execute_result"
    }
   ],
   "source": [
    "os.path.basename(TEST_IMAGE_PATHS[0])"
   ]
  },
  {
   "cell_type": "code",
   "execution_count": 21,
   "metadata": {},
   "outputs": [
    {
     "data": {
      "text/plain": [
       "(1368, 1096)"
      ]
     },
     "execution_count": 21,
     "metadata": {},
     "output_type": "execute_result"
    }
   ],
   "source": [
    "immm = Image.open(TEST_IMAGE_PATHS[0])\n",
    "immm.size\n",
    "# plt.imshow(immm)"
   ]
  },
  {
   "cell_type": "code",
   "execution_count": 26,
   "metadata": {
    "scrolled": false
   },
   "outputs": [],
   "source": [
    "cropped_folder = \"./test_images/real/crop8x6/\"\n",
    "for f in TEST_IMAGE_PATHS:\n",
    "  img = Image.open(f)\n",
    "  img2 = img.crop((0, 200, 800, 800))\n",
    "#   plt.figure(figsize=IMAGE_SIZE)\n",
    "  img2.save(cropped_folder + os.path.basename(f))\n",
    "#   plt.imshow(img2)\n",
    "#   plt.show()"
   ]
  },
  {
   "cell_type": "code",
   "execution_count": null,
   "metadata": {},
   "outputs": [],
   "source": []
  }
 ],
 "metadata": {
  "kernelspec": {
   "display_name": "Python2.7.6",
   "language": "python",
   "name": "python2"
  },
  "language_info": {
   "codemirror_mode": {
    "name": "ipython",
    "version": 2
   },
   "file_extension": ".py",
   "mimetype": "text/x-python",
   "name": "python",
   "nbconvert_exporter": "python",
   "pygments_lexer": "ipython2",
   "version": "2.7.6"
  }
 },
 "nbformat": 4,
 "nbformat_minor": 2
}
